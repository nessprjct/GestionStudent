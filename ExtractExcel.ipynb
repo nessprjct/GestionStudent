{
  "nbformat": 4,
  "nbformat_minor": 0,
  "metadata": {
    "colab": {
      "provenance": [],
      "authorship_tag": "ABX9TyMr/zddDSO7iBHur3NOHnL2",
      "include_colab_link": true
    },
    "kernelspec": {
      "name": "python3",
      "display_name": "Python 3"
    },
    "language_info": {
      "name": "python"
    }
  },
  "cells": [
    {
      "cell_type": "markdown",
      "metadata": {
        "id": "view-in-github",
        "colab_type": "text"
      },
      "source": [
        "<a href=\"https://colab.research.google.com/github/nessprjct/GestionStudent/blob/main/ExtractExcel.ipynb\" target=\"_parent\"><img src=\"https://colab.research.google.com/assets/colab-badge.svg\" alt=\"Open In Colab\"/></a>"
      ]
    },
    {
      "cell_type": "code",
      "execution_count": null,
      "metadata": {
        "colab": {
          "base_uri": "https://localhost:8080/"
        },
        "id": "pYt5ablkM4y2",
        "outputId": "c7772e8d-6076-41aa-9251-1ac3eb426cf2"
      },
      "outputs": [
        {
          "output_type": "stream",
          "name": "stdout",
          "text": [
            "{'Date': {0: 'Saison', 1: 'PO', 4: 'Style name', 5: 'Article/col', 6: 'Ready Qty', 7: 'Measurement sample size', 8: '# of OT Points', 9: '# of OT Pieces'}, datetime.date(2023, 8, 4): {0: 223, 1: 650095, 4: '05 THE O SHAPE', 5: 93608829, 6: 308, 7: 15, 8: 0, 9: 0}, '': {0: '', 1: '', 4: '', 5: '', 6: 'UNITS:', 7: 'cm', 8: '', 9: ''}}\n"
          ]
        },
        {
          "output_type": "stream",
          "name": "stderr",
          "text": [
            "/usr/local/lib/python3.10/dist-packages/openpyxl/worksheet/_reader.py:329: UserWarning: Conditional Formatting extension is not supported and will be removed\n",
            "  warn(msg)\n",
            "/usr/local/lib/python3.10/dist-packages/openpyxl/worksheet/_reader.py:329: UserWarning: Conditional Formatting extension is not supported and will be removed\n",
            "  warn(msg)\n",
            "<ipython-input-3-787e6445dd51>:33: FutureWarning: The frame.append method is deprecated and will be removed from pandas in a future version. Use pandas.concat instead.\n",
            "  df1 = df1.append(size)\n",
            "<ipython-input-3-787e6445dd51>:33: FutureWarning: The frame.append method is deprecated and will be removed from pandas in a future version. Use pandas.concat instead.\n",
            "  df1 = df1.append(size)\n",
            "<ipython-input-3-787e6445dd51>:33: FutureWarning: The frame.append method is deprecated and will be removed from pandas in a future version. Use pandas.concat instead.\n",
            "  df1 = df1.append(size)\n",
            "<ipython-input-3-787e6445dd51>:33: FutureWarning: The frame.append method is deprecated and will be removed from pandas in a future version. Use pandas.concat instead.\n",
            "  df1 = df1.append(size)\n",
            "<ipython-input-3-787e6445dd51>:33: FutureWarning: The frame.append method is deprecated and will be removed from pandas in a future version. Use pandas.concat instead.\n",
            "  df1 = df1.append(size)\n"
          ]
        }
      ],
      "source": [
        "import pandas as pd\n",
        "\n",
        "class ExtExcel:\n",
        "    def __init__(self, path):\n",
        "        self.path = path\n",
        "        self.data_dict = {}\n",
        "\n",
        "    def data(self, sheet_name, skiprows, usecols):\n",
        "        return pd.read_excel(self.path, sheet_name=sheet_name, skiprows=skiprows, usecols=usecols)\n",
        "\n",
        "    def dropna(self, df):\n",
        "        df.dropna(how='all', inplace=True, axis=0)\n",
        "        df.dropna(how='all', inplace=True, axis=1)\n",
        "        return df.fillna(\"\")\n",
        "\n",
        "    def get_data(self, df):\n",
        "        df2 = []\n",
        "        for i in range(3, len(df.columns)):\n",
        "            col = df.columns[i]\n",
        "            if col.startswith('Unnamed'):\n",
        "                tolM = df.columns[i - 1]\n",
        "                size = f'{tolM}'\n",
        "                df1 = df[['Point of Measurement', 'Tol -', 'Tol +', tolM, col]].copy()\n",
        "                df1.insert(3, 'Size', size)\n",
        "                df1.rename(columns={df1.columns[4]: 'Mesure', df1.columns[5]: 'Tol'}, inplace=True)\n",
        "                df2.append(df1)\n",
        "        return pd.concat(df2, ignore_index=True)\n",
        "\n",
        "    def get_size(self, df):\n",
        "        df1 = pd.DataFrame(columns=df.columns)\n",
        "        for i in df['Size'].unique():\n",
        "            size = df[df['Size'] == i].head(4)\n",
        "            df1 = df1.append(size)\n",
        "        return df1.sort_values(['Point of Measurement', 'Size'], ascending=[False, True])\n",
        "\n",
        "    def extract(self):\n",
        "        try:\n",
        "            df1 = self.data('Trousers', 14, 'A:M')\n",
        "            df1.rename(columns={df1.columns[1]: 'Tol -', df1.columns[2]: 'Tol +'}, inplace=True)\n",
        "            df1 = df1.dropna()\n",
        "\n",
        "            df2 = self.data('Trousers', 2, 'A:F')\n",
        "            df2 = df2.drop(index=[2, 3]).iloc[:8]\n",
        "            df2.drop([\"Unnamed: 2\", \"Unnamed: 3\", \"Unnamed: 4\"], axis=1, inplace=True)\n",
        "            df3 = self.dropna(df2)\n",
        "            df3.rename(columns={df3.columns[2]: ''}, inplace=True)\n",
        "\n",
        "            a = df3.columns[1]\n",
        "            a = pd.to_datetime(a).date()\n",
        "            df3.columns.values[1] = a\n",
        "            dict = df3.to_dict()\n",
        "            print(dict)\n",
        "\n",
        "\n",
        "            df4 = self.get_data(df1)\n",
        "            df5 = self.get_size(df4)\n",
        "\n",
        "            # print(df3, '\\n\\n')\n",
        "            # print(df5)\n",
        "\n",
        "        except:\n",
        "            print('*****FAILED*****')\n",
        "\n",
        "\n",
        "# exec\n",
        "df6 = ExtExcel(\"/content/650095 The O Shape.xlsx\")\n",
        "df6.extract()"
      ]
    }
  ]
}